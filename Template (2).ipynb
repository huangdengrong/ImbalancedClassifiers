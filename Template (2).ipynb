{
 "cells": [
  {
   "cell_type": "markdown",
   "metadata": {},
   "source": [
    "# This Template is created to make grading fair and straightforward. Anything not in the place as mentioned in the template would not be graded.\n",
    "\n",
    "<font color='red'> # NOTE: We would run the notebook through a Plagiarism Checker. If it is found to be copied, your work would not be graded, and the incident would be highlighted to NYU Authorities. </font>"
   ]
  },
  {
   "cell_type": "markdown",
   "metadata": {},
   "source": [
    "# Import Library and Dataset"
   ]
  },
  {
   "cell_type": "code",
   "execution_count": 126,
   "metadata": {},
   "outputs": [
    {
     "name": "stderr",
     "output_type": "stream",
     "text": [
      "C:\\Users\\Satish\\Downloads\\WPy-3670\\python-3.6.7.amd64\\lib\\site-packages\\IPython\\core\\interactiveshell.py:3020: DtypeWarning: Columns (10) have mixed types. Specify dtype option on import or set low_memory=False.\n",
      "  interactivity=interactivity, compiler=compiler, result=result)\n"
     ]
    },
    {
     "data": {
      "text/html": [
       "<div>\n",
       "<style scoped>\n",
       "    .dataframe tbody tr th:only-of-type {\n",
       "        vertical-align: middle;\n",
       "    }\n",
       "\n",
       "    .dataframe tbody tr th {\n",
       "        vertical-align: top;\n",
       "    }\n",
       "\n",
       "    .dataframe thead th {\n",
       "        text-align: right;\n",
       "    }\n",
       "</style>\n",
       "<table border=\"1\" class=\"dataframe\">\n",
       "  <thead>\n",
       "    <tr style=\"text-align: right;\">\n",
       "      <th></th>\n",
       "      <th>id_num</th>\n",
       "      <th>player_id</th>\n",
       "      <th>house</th>\n",
       "      <th>gender</th>\n",
       "      <th>age</th>\n",
       "      <th>weight</th>\n",
       "      <th>foul_type_id</th>\n",
       "      <th>game_move_id</th>\n",
       "      <th>penalty_id</th>\n",
       "      <th>game_duration</th>\n",
       "      <th>...</th>\n",
       "      <th>finbourgh_flick</th>\n",
       "      <th>reverse_pass</th>\n",
       "      <th>parkins_pincer</th>\n",
       "      <th>plumpton_pass</th>\n",
       "      <th>porskoff_ploy</th>\n",
       "      <th>transylvanian_tackle</th>\n",
       "      <th>woollongong_shimmy</th>\n",
       "      <th>change</th>\n",
       "      <th>snitch_caught</th>\n",
       "      <th>quidditch_league_player</th>\n",
       "    </tr>\n",
       "  </thead>\n",
       "  <tbody>\n",
       "    <tr>\n",
       "      <th>0</th>\n",
       "      <td>1</td>\n",
       "      <td>8222157</td>\n",
       "      <td>Gryffindor</td>\n",
       "      <td>Female</td>\n",
       "      <td>11.0</td>\n",
       "      <td>NaN</td>\n",
       "      <td>6</td>\n",
       "      <td>25</td>\n",
       "      <td>1</td>\n",
       "      <td>1</td>\n",
       "      <td>...</td>\n",
       "      <td>No</td>\n",
       "      <td>No</td>\n",
       "      <td>No</td>\n",
       "      <td>No</td>\n",
       "      <td>No</td>\n",
       "      <td>No</td>\n",
       "      <td>No</td>\n",
       "      <td>No</td>\n",
       "      <td>No</td>\n",
       "      <td>NO</td>\n",
       "    </tr>\n",
       "    <tr>\n",
       "      <th>1</th>\n",
       "      <td>2</td>\n",
       "      <td>55629189</td>\n",
       "      <td>Gryffindor</td>\n",
       "      <td>Female</td>\n",
       "      <td>12.0</td>\n",
       "      <td>NaN</td>\n",
       "      <td>1</td>\n",
       "      <td>1</td>\n",
       "      <td>7</td>\n",
       "      <td>3</td>\n",
       "      <td>...</td>\n",
       "      <td>No</td>\n",
       "      <td>Up</td>\n",
       "      <td>No</td>\n",
       "      <td>No</td>\n",
       "      <td>No</td>\n",
       "      <td>No</td>\n",
       "      <td>No</td>\n",
       "      <td>Ch</td>\n",
       "      <td>Yes</td>\n",
       "      <td>NO</td>\n",
       "    </tr>\n",
       "    <tr>\n",
       "      <th>2</th>\n",
       "      <td>3</td>\n",
       "      <td>86047875</td>\n",
       "      <td>Slytherin</td>\n",
       "      <td>Female</td>\n",
       "      <td>13.0</td>\n",
       "      <td>NaN</td>\n",
       "      <td>1</td>\n",
       "      <td>1</td>\n",
       "      <td>7</td>\n",
       "      <td>2</td>\n",
       "      <td>...</td>\n",
       "      <td>No</td>\n",
       "      <td>No</td>\n",
       "      <td>No</td>\n",
       "      <td>No</td>\n",
       "      <td>No</td>\n",
       "      <td>No</td>\n",
       "      <td>No</td>\n",
       "      <td>No</td>\n",
       "      <td>Yes</td>\n",
       "      <td>NO</td>\n",
       "    </tr>\n",
       "    <tr>\n",
       "      <th>3</th>\n",
       "      <td>4</td>\n",
       "      <td>82442376</td>\n",
       "      <td>Gryffindor</td>\n",
       "      <td>Male</td>\n",
       "      <td>14.0</td>\n",
       "      <td>NaN</td>\n",
       "      <td>1</td>\n",
       "      <td>1</td>\n",
       "      <td>7</td>\n",
       "      <td>2</td>\n",
       "      <td>...</td>\n",
       "      <td>No</td>\n",
       "      <td>Up</td>\n",
       "      <td>No</td>\n",
       "      <td>No</td>\n",
       "      <td>No</td>\n",
       "      <td>No</td>\n",
       "      <td>No</td>\n",
       "      <td>Ch</td>\n",
       "      <td>Yes</td>\n",
       "      <td>NO</td>\n",
       "    </tr>\n",
       "    <tr>\n",
       "      <th>4</th>\n",
       "      <td>5</td>\n",
       "      <td>42519267</td>\n",
       "      <td>Gryffindor</td>\n",
       "      <td>Male</td>\n",
       "      <td>14.5</td>\n",
       "      <td>NaN</td>\n",
       "      <td>1</td>\n",
       "      <td>1</td>\n",
       "      <td>7</td>\n",
       "      <td>1</td>\n",
       "      <td>...</td>\n",
       "      <td>No</td>\n",
       "      <td>Steady</td>\n",
       "      <td>No</td>\n",
       "      <td>No</td>\n",
       "      <td>No</td>\n",
       "      <td>No</td>\n",
       "      <td>No</td>\n",
       "      <td>Ch</td>\n",
       "      <td>Yes</td>\n",
       "      <td>NO</td>\n",
       "    </tr>\n",
       "  </tbody>\n",
       "</table>\n",
       "<p>5 rows × 48 columns</p>\n",
       "</div>"
      ],
      "text/plain": [
       "   id_num  player_id       house  gender   age weight  foul_type_id  \\\n",
       "0       1    8222157  Gryffindor  Female  11.0    NaN             6   \n",
       "1       2   55629189  Gryffindor  Female  12.0    NaN             1   \n",
       "2       3   86047875   Slytherin  Female  13.0    NaN             1   \n",
       "3       4   82442376  Gryffindor    Male  14.0    NaN             1   \n",
       "4       5   42519267  Gryffindor    Male  14.5    NaN             1   \n",
       "\n",
       "   game_move_id  penalty_id  game_duration           ...             \\\n",
       "0            25           1              1           ...              \n",
       "1             1           7              3           ...              \n",
       "2             1           7              2           ...              \n",
       "3             1           7              2           ...              \n",
       "4             1           7              1           ...              \n",
       "\n",
       "  finbourgh_flick reverse_pass  parkins_pincer  plumpton_pass  porskoff_ploy  \\\n",
       "0              No           No              No             No             No   \n",
       "1              No           Up              No             No             No   \n",
       "2              No           No              No             No             No   \n",
       "3              No           Up              No             No             No   \n",
       "4              No       Steady              No             No             No   \n",
       "\n",
       "   transylvanian_tackle  woollongong_shimmy  change snitch_caught  \\\n",
       "0                    No                  No      No            No   \n",
       "1                    No                  No      Ch           Yes   \n",
       "2                    No                  No      No           Yes   \n",
       "3                    No                  No      Ch           Yes   \n",
       "4                    No                  No      Ch           Yes   \n",
       "\n",
       "   quidditch_league_player  \n",
       "0                       NO  \n",
       "1                       NO  \n",
       "2                       NO  \n",
       "3                       NO  \n",
       "4                       NO  \n",
       "\n",
       "[5 rows x 48 columns]"
      ]
     },
     "execution_count": 126,
     "metadata": {},
     "output_type": "execute_result"
    }
   ],
   "source": [
    "import sklearn\n",
    "import pandas as pd \n",
    "\n",
    "df = pd.read_csv(\"qudditch_training.csv\", na_values='?')\n",
    "df.head()"
   ]
  },
  {
   "cell_type": "markdown",
   "metadata": {},
   "source": [
    "# PART I: Preprocessing"
   ]
  },
  {
   "cell_type": "markdown",
   "metadata": {},
   "source": [
    "#### Handling missing values. (If ANY)"
   ]
  },
  {
   "cell_type": "code",
   "execution_count": 127,
   "metadata": {},
   "outputs": [
    {
     "data": {
      "text/html": [
       "<div>\n",
       "<style scoped>\n",
       "    .dataframe tbody tr th:only-of-type {\n",
       "        vertical-align: middle;\n",
       "    }\n",
       "\n",
       "    .dataframe tbody tr th {\n",
       "        vertical-align: top;\n",
       "    }\n",
       "\n",
       "    .dataframe thead th {\n",
       "        text-align: right;\n",
       "    }\n",
       "</style>\n",
       "<table border=\"1\" class=\"dataframe\">\n",
       "  <thead>\n",
       "    <tr style=\"text-align: right;\">\n",
       "      <th></th>\n",
       "      <th>id_num</th>\n",
       "      <th>player_id</th>\n",
       "      <th>house</th>\n",
       "      <th>gender</th>\n",
       "      <th>age</th>\n",
       "      <th>foul_type_id</th>\n",
       "      <th>game_move_id</th>\n",
       "      <th>penalty_id</th>\n",
       "      <th>game_duration</th>\n",
       "      <th>player_code</th>\n",
       "      <th>...</th>\n",
       "      <th>finbourgh_flick</th>\n",
       "      <th>reverse_pass</th>\n",
       "      <th>parkins_pincer</th>\n",
       "      <th>plumpton_pass</th>\n",
       "      <th>porskoff_ploy</th>\n",
       "      <th>transylvanian_tackle</th>\n",
       "      <th>woollongong_shimmy</th>\n",
       "      <th>change</th>\n",
       "      <th>snitch_caught</th>\n",
       "      <th>quidditch_league_player</th>\n",
       "    </tr>\n",
       "  </thead>\n",
       "  <tbody>\n",
       "    <tr>\n",
       "      <th>0</th>\n",
       "      <td>1</td>\n",
       "      <td>8222157</td>\n",
       "      <td>Gryffindor</td>\n",
       "      <td>Female</td>\n",
       "      <td>11.0</td>\n",
       "      <td>6</td>\n",
       "      <td>25</td>\n",
       "      <td>1</td>\n",
       "      <td>1</td>\n",
       "      <td>MC</td>\n",
       "      <td>...</td>\n",
       "      <td>No</td>\n",
       "      <td>No</td>\n",
       "      <td>No</td>\n",
       "      <td>No</td>\n",
       "      <td>No</td>\n",
       "      <td>No</td>\n",
       "      <td>No</td>\n",
       "      <td>No</td>\n",
       "      <td>No</td>\n",
       "      <td>NO</td>\n",
       "    </tr>\n",
       "    <tr>\n",
       "      <th>1</th>\n",
       "      <td>2</td>\n",
       "      <td>55629189</td>\n",
       "      <td>Gryffindor</td>\n",
       "      <td>Female</td>\n",
       "      <td>12.0</td>\n",
       "      <td>1</td>\n",
       "      <td>1</td>\n",
       "      <td>7</td>\n",
       "      <td>3</td>\n",
       "      <td>MC</td>\n",
       "      <td>...</td>\n",
       "      <td>No</td>\n",
       "      <td>Up</td>\n",
       "      <td>No</td>\n",
       "      <td>No</td>\n",
       "      <td>No</td>\n",
       "      <td>No</td>\n",
       "      <td>No</td>\n",
       "      <td>Ch</td>\n",
       "      <td>Yes</td>\n",
       "      <td>NO</td>\n",
       "    </tr>\n",
       "    <tr>\n",
       "      <th>2</th>\n",
       "      <td>3</td>\n",
       "      <td>86047875</td>\n",
       "      <td>Slytherin</td>\n",
       "      <td>Female</td>\n",
       "      <td>13.0</td>\n",
       "      <td>1</td>\n",
       "      <td>1</td>\n",
       "      <td>7</td>\n",
       "      <td>2</td>\n",
       "      <td>MC</td>\n",
       "      <td>...</td>\n",
       "      <td>No</td>\n",
       "      <td>No</td>\n",
       "      <td>No</td>\n",
       "      <td>No</td>\n",
       "      <td>No</td>\n",
       "      <td>No</td>\n",
       "      <td>No</td>\n",
       "      <td>No</td>\n",
       "      <td>Yes</td>\n",
       "      <td>NO</td>\n",
       "    </tr>\n",
       "    <tr>\n",
       "      <th>3</th>\n",
       "      <td>4</td>\n",
       "      <td>82442376</td>\n",
       "      <td>Gryffindor</td>\n",
       "      <td>Male</td>\n",
       "      <td>14.0</td>\n",
       "      <td>1</td>\n",
       "      <td>1</td>\n",
       "      <td>7</td>\n",
       "      <td>2</td>\n",
       "      <td>MC</td>\n",
       "      <td>...</td>\n",
       "      <td>No</td>\n",
       "      <td>Up</td>\n",
       "      <td>No</td>\n",
       "      <td>No</td>\n",
       "      <td>No</td>\n",
       "      <td>No</td>\n",
       "      <td>No</td>\n",
       "      <td>Ch</td>\n",
       "      <td>Yes</td>\n",
       "      <td>NO</td>\n",
       "    </tr>\n",
       "    <tr>\n",
       "      <th>4</th>\n",
       "      <td>5</td>\n",
       "      <td>42519267</td>\n",
       "      <td>Gryffindor</td>\n",
       "      <td>Male</td>\n",
       "      <td>14.5</td>\n",
       "      <td>1</td>\n",
       "      <td>1</td>\n",
       "      <td>7</td>\n",
       "      <td>1</td>\n",
       "      <td>MC</td>\n",
       "      <td>...</td>\n",
       "      <td>No</td>\n",
       "      <td>Steady</td>\n",
       "      <td>No</td>\n",
       "      <td>No</td>\n",
       "      <td>No</td>\n",
       "      <td>No</td>\n",
       "      <td>No</td>\n",
       "      <td>Ch</td>\n",
       "      <td>Yes</td>\n",
       "      <td>NO</td>\n",
       "    </tr>\n",
       "  </tbody>\n",
       "</table>\n",
       "<p>5 rows × 47 columns</p>\n",
       "</div>"
      ],
      "text/plain": [
       "   id_num  player_id       house  gender   age  foul_type_id  game_move_id  \\\n",
       "0       1    8222157  Gryffindor  Female  11.0             6            25   \n",
       "1       2   55629189  Gryffindor  Female  12.0             1             1   \n",
       "2       3   86047875   Slytherin  Female  13.0             1             1   \n",
       "3       4   82442376  Gryffindor    Male  14.0             1             1   \n",
       "4       5   42519267  Gryffindor    Male  14.5             1             1   \n",
       "\n",
       "   penalty_id  game_duration player_code           ...            \\\n",
       "0           1              1          MC           ...             \n",
       "1           7              3          MC           ...             \n",
       "2           7              2          MC           ...             \n",
       "3           7              2          MC           ...             \n",
       "4           7              1          MC           ...             \n",
       "\n",
       "  finbourgh_flick  reverse_pass  parkins_pincer  plumpton_pass  porskoff_ploy  \\\n",
       "0              No            No              No             No             No   \n",
       "1              No            Up              No             No             No   \n",
       "2              No            No              No             No             No   \n",
       "3              No            Up              No             No             No   \n",
       "4              No        Steady              No             No             No   \n",
       "\n",
       "   transylvanian_tackle  woollongong_shimmy change  snitch_caught  \\\n",
       "0                    No                  No     No             No   \n",
       "1                    No                  No     Ch            Yes   \n",
       "2                    No                  No     No            Yes   \n",
       "3                    No                  No     Ch            Yes   \n",
       "4                    No                  No     Ch            Yes   \n",
       "\n",
       "  quidditch_league_player  \n",
       "0                      NO  \n",
       "1                      NO  \n",
       "2                      NO  \n",
       "3                      NO  \n",
       "4                      NO  \n",
       "\n",
       "[5 rows x 47 columns]"
      ]
     },
     "execution_count": 127,
     "metadata": {},
     "output_type": "execute_result"
    }
   ],
   "source": [
    "#Remove columns with missing values more than 80%\n",
    "df = df[df.columns[df.isnull().mean() < 0.8]]\n",
    "\n",
    "#Handle missing values by replacing them with the most common example in the feature\n",
    "for column in df.columns[df.isnull().sum() > 0]:\n",
    "    df[column] = df[column].fillna(df[column].mode()[0])\n",
    "\n",
    "#Dropping rows with Gender value as \"Unknown/Invalid\"\n",
    "df = df.drop(df[df.gender==\"Unknown/Invalid\"].index)\n",
    "\n",
    "df.head()"
   ]
  },
  {
   "cell_type": "markdown",
   "metadata": {},
   "source": [
    "#### Feature Datatype Conversion From Numeric to categoric and Vice-versa. (If ANY)"
   ]
  },
  {
   "cell_type": "code",
   "execution_count": 128,
   "metadata": {},
   "outputs": [
    {
     "data": {
      "text/html": [
       "<div>\n",
       "<style scoped>\n",
       "    .dataframe tbody tr th:only-of-type {\n",
       "        vertical-align: middle;\n",
       "    }\n",
       "\n",
       "    .dataframe tbody tr th {\n",
       "        vertical-align: top;\n",
       "    }\n",
       "\n",
       "    .dataframe thead th {\n",
       "        text-align: right;\n",
       "    }\n",
       "</style>\n",
       "<table border=\"1\" class=\"dataframe\">\n",
       "  <thead>\n",
       "    <tr style=\"text-align: right;\">\n",
       "      <th></th>\n",
       "      <th>id_num</th>\n",
       "      <th>player_id</th>\n",
       "      <th>age</th>\n",
       "      <th>game_duration</th>\n",
       "      <th>num_game_moves</th>\n",
       "      <th>num_game_losses</th>\n",
       "      <th>num_practice_sessions</th>\n",
       "      <th>num_games_satout</th>\n",
       "      <th>num_games_injured</th>\n",
       "      <th>num_games_notpartof</th>\n",
       "      <th>...</th>\n",
       "      <th>player_type_Beater1</th>\n",
       "      <th>player_type_Beater2</th>\n",
       "      <th>player_type_Captain</th>\n",
       "      <th>player_type_Chaser1</th>\n",
       "      <th>player_type_Chaser2</th>\n",
       "      <th>player_type_Chaser3</th>\n",
       "      <th>player_type_Keeper</th>\n",
       "      <th>player_type_Multiple</th>\n",
       "      <th>player_type_Seeker</th>\n",
       "      <th>quidditch_league_player</th>\n",
       "    </tr>\n",
       "  </thead>\n",
       "  <tbody>\n",
       "    <tr>\n",
       "      <th>0</th>\n",
       "      <td>1</td>\n",
       "      <td>8222157</td>\n",
       "      <td>11.0</td>\n",
       "      <td>1</td>\n",
       "      <td>41</td>\n",
       "      <td>0</td>\n",
       "      <td>1</td>\n",
       "      <td>0</td>\n",
       "      <td>0</td>\n",
       "      <td>0</td>\n",
       "      <td>...</td>\n",
       "      <td>1</td>\n",
       "      <td>0</td>\n",
       "      <td>0</td>\n",
       "      <td>0</td>\n",
       "      <td>0</td>\n",
       "      <td>0</td>\n",
       "      <td>0</td>\n",
       "      <td>0</td>\n",
       "      <td>0</td>\n",
       "      <td>0</td>\n",
       "    </tr>\n",
       "    <tr>\n",
       "      <th>1</th>\n",
       "      <td>2</td>\n",
       "      <td>55629189</td>\n",
       "      <td>12.0</td>\n",
       "      <td>3</td>\n",
       "      <td>59</td>\n",
       "      <td>0</td>\n",
       "      <td>18</td>\n",
       "      <td>0</td>\n",
       "      <td>0</td>\n",
       "      <td>0</td>\n",
       "      <td>...</td>\n",
       "      <td>0</td>\n",
       "      <td>0</td>\n",
       "      <td>0</td>\n",
       "      <td>0</td>\n",
       "      <td>0</td>\n",
       "      <td>0</td>\n",
       "      <td>0</td>\n",
       "      <td>1</td>\n",
       "      <td>0</td>\n",
       "      <td>0</td>\n",
       "    </tr>\n",
       "    <tr>\n",
       "      <th>2</th>\n",
       "      <td>3</td>\n",
       "      <td>86047875</td>\n",
       "      <td>13.0</td>\n",
       "      <td>2</td>\n",
       "      <td>11</td>\n",
       "      <td>5</td>\n",
       "      <td>13</td>\n",
       "      <td>2</td>\n",
       "      <td>0</td>\n",
       "      <td>1</td>\n",
       "      <td>...</td>\n",
       "      <td>0</td>\n",
       "      <td>0</td>\n",
       "      <td>0</td>\n",
       "      <td>0</td>\n",
       "      <td>0</td>\n",
       "      <td>0</td>\n",
       "      <td>0</td>\n",
       "      <td>1</td>\n",
       "      <td>0</td>\n",
       "      <td>0</td>\n",
       "    </tr>\n",
       "    <tr>\n",
       "      <th>3</th>\n",
       "      <td>4</td>\n",
       "      <td>82442376</td>\n",
       "      <td>14.0</td>\n",
       "      <td>2</td>\n",
       "      <td>44</td>\n",
       "      <td>1</td>\n",
       "      <td>16</td>\n",
       "      <td>0</td>\n",
       "      <td>0</td>\n",
       "      <td>0</td>\n",
       "      <td>...</td>\n",
       "      <td>0</td>\n",
       "      <td>0</td>\n",
       "      <td>0</td>\n",
       "      <td>0</td>\n",
       "      <td>0</td>\n",
       "      <td>0</td>\n",
       "      <td>0</td>\n",
       "      <td>1</td>\n",
       "      <td>0</td>\n",
       "      <td>0</td>\n",
       "    </tr>\n",
       "    <tr>\n",
       "      <th>4</th>\n",
       "      <td>5</td>\n",
       "      <td>42519267</td>\n",
       "      <td>14.5</td>\n",
       "      <td>1</td>\n",
       "      <td>51</td>\n",
       "      <td>0</td>\n",
       "      <td>8</td>\n",
       "      <td>0</td>\n",
       "      <td>0</td>\n",
       "      <td>0</td>\n",
       "      <td>...</td>\n",
       "      <td>0</td>\n",
       "      <td>0</td>\n",
       "      <td>1</td>\n",
       "      <td>0</td>\n",
       "      <td>0</td>\n",
       "      <td>0</td>\n",
       "      <td>0</td>\n",
       "      <td>0</td>\n",
       "      <td>0</td>\n",
       "      <td>0</td>\n",
       "    </tr>\n",
       "  </tbody>\n",
       "</table>\n",
       "<p>5 rows × 195 columns</p>\n",
       "</div>"
      ],
      "text/plain": [
       "   id_num  player_id   age  game_duration  num_game_moves  num_game_losses  \\\n",
       "0       1    8222157  11.0              1              41                0   \n",
       "1       2   55629189  12.0              3              59                0   \n",
       "2       3   86047875  13.0              2              11                5   \n",
       "3       4   82442376  14.0              2              44                1   \n",
       "4       5   42519267  14.5              1              51                0   \n",
       "\n",
       "   num_practice_sessions  num_games_satout  num_games_injured  \\\n",
       "0                      1                 0                  0   \n",
       "1                     18                 0                  0   \n",
       "2                     13                 2                  0   \n",
       "3                     16                 0                  0   \n",
       "4                      8                 0                  0   \n",
       "\n",
       "   num_games_notpartof           ...             player_type_Beater1  \\\n",
       "0                    0           ...                               1   \n",
       "1                    0           ...                               0   \n",
       "2                    1           ...                               0   \n",
       "3                    0           ...                               0   \n",
       "4                    0           ...                               0   \n",
       "\n",
       "   player_type_Beater2  player_type_Captain  player_type_Chaser1  \\\n",
       "0                    0                    0                    0   \n",
       "1                    0                    0                    0   \n",
       "2                    0                    0                    0   \n",
       "3                    0                    0                    0   \n",
       "4                    0                    1                    0   \n",
       "\n",
       "   player_type_Chaser2  player_type_Chaser3  player_type_Keeper  \\\n",
       "0                    0                    0                   0   \n",
       "1                    0                    0                   0   \n",
       "2                    0                    0                   0   \n",
       "3                    0                    0                   0   \n",
       "4                    0                    0                   0   \n",
       "\n",
       "   player_type_Multiple  player_type_Seeker  quidditch_league_player  \n",
       "0                     0                   0                        0  \n",
       "1                     1                   0                        0  \n",
       "2                     1                   0                        0  \n",
       "3                     1                   0                        0  \n",
       "4                     0                   0                        0  \n",
       "\n",
       "[5 rows x 195 columns]"
      ]
     },
     "execution_count": 128,
     "metadata": {},
     "output_type": "execute_result"
    }
   ],
   "source": [
    "from sklearn.preprocessing import LabelEncoder, OneHotEncoder\n",
    "import numpy as np\n",
    "\n",
    "\n",
    "df['snitchnip'] = df['snitchnip'].replace({'>200': 0, '>300': 1, 'Norm': 2, 'None': -99})\n",
    "df['stooging'] = df['stooging'].replace({'>7': 0, '>8': 1, 'Norm': 2, 'None': -99})\n",
    "i = ['snitchnip', 'stooging', 'player_id', 'id_num', 'foul_type_id', 'game_move_id', 'penalty_id']\n",
    "\n",
    "df[i] = df[i].astype('object')\n",
    "\n",
    "df['quidditch_league_player'] = df['quidditch_league_player'].replace({'NO': 0, 'YES': 1})\n",
    "\n",
    "#df['num_games_notperformed'] = df['num_games_satout']+df['num_games_injured']+df['num_games_notpartof']\n",
    "\n",
    "j = ['body_blow','checking','dopplebeater_defence','hawkshead_attacking_formation','no_hands_tackle',\\\n",
    "    'power_play','sloth_grip_roll','spiral_dive','starfish_and_stick','twirl','wronski_feint','zig-zag',\\\n",
    "    'bludger_backbeat','chelmondiston_charge','dionysus_dive','double_eight_loop','finbourgh_flick',\\\n",
    "    'reverse_pass','parkins_pincer','plumpton_pass','porskoff_ploy','transylvanian_tackle',\\\n",
    "    'woollongong_shimmy']\n",
    "\n",
    "df[j] = df[j].replace({'No': 0, 'Steady': 1, 'Up': 2, 'Down': 3})\n",
    "df['change'] = df['change'].replace({'No': 0, 'Ch': 1})\n",
    "df['snitch_caught'] = df['snitch_caught'].replace({'No': 0, 'Yes': 1})\n",
    "df[['snitchnip', 'stooging', 'id_num', 'player_id']] = df[['snitchnip', 'stooging', 'id_num', 'player_id']].astype('int64')\n",
    "\n",
    "\n",
    "df_1 = df.select_dtypes(include=[object])\n",
    "le = LabelEncoder()\n",
    "df_2 = df_1.apply(le.fit_transform)\n",
    "\n",
    "def categorizeColumn(column):\n",
    "    df_2[column] = df_1[column].astype('category')\n",
    "    \n",
    "for col in df_1.columns:\n",
    "    categorizeColumn(col)\n",
    "\n",
    "df_2 = pd.get_dummies(df_2)\n",
    "df = df.drop([col for col in df_1.columns], axis=1)\n",
    "df = pd.merge(df, df_2, right_index=True, left_index=True)\n",
    "\n",
    "cols = list(df)\n",
    "cols.insert(len(df.columns)-1, cols.pop(cols.index('quidditch_league_player')))\n",
    "df = df.reindex(columns= cols)\n",
    "df.head()"
   ]
  },
  {
   "cell_type": "markdown",
   "metadata": {},
   "source": [
    "#### Feature Reduction or extraction. (If ANY)"
   ]
  },
  {
   "cell_type": "code",
   "execution_count": 129,
   "metadata": {},
   "outputs": [
    {
     "data": {
      "text/plain": [
       "(101263, 193)"
      ]
     },
     "execution_count": 129,
     "metadata": {},
     "output_type": "execute_result"
    }
   ],
   "source": [
    "from sklearn.ensemble import RandomForestClassifier\n",
    "from sklearn.feature_selection import SelectFromModel\n",
    "from sklearn.preprocessing import StandardScaler\n",
    "from scipy import stats\n",
    "\n",
    "#df = df.drop(['num_games_satout', 'num_games_injured', 'num_games_notpartof'], axis=1)\n",
    "\n",
    "#Reduction of feature which has only one distinct example. Hence, has no effect on the classification.\n",
    "for col in df.columns:\n",
    "    if len(df[col].unique()) == 1:\n",
    "        df = df.drop(col, axis=1)\n",
    "\n",
    "num_col = ['age', 'game_duration', 'num_game_moves', 'num_game_losses', 'num_practice_sessions', 'num_games_won',\\\n",
    "           'num_games_satout', 'num_games_injured', 'num_games_notpartof']\n",
    "for col in num_col:\n",
    "    if len(df[df[col] == 0])/len(df) <=0.02:\n",
    "        df = df[df[col] > 0]\n",
    "        df[col] = np.log(df[col])\n",
    "    else:\n",
    "        df = df[df[col] >= 0]\n",
    "        df[col] = np.log1p(df[col])\n",
    "\n",
    "scaler = StandardScaler()\n",
    "scaled_df = scaler.fit_transform(df[num_col])\n",
    "df[num_col] = scaled_df\n",
    "\n",
    "\"\"\"\n",
    "def standardize(raw_data):\n",
    "    return ((raw_data - np.mean(raw_data, axis = 0)) / np.std(raw_data, axis = 0))\n",
    "df[num_col] = standardize(df[num_col])\n",
    "\n",
    "#Reduction of feature that has more than 95% co-relation with any other feature\n",
    "df_temp = df.drop(['quidditch_league_player'], axis=1)\n",
    "corr_matrix = df_temp.corr().abs()\n",
    "upper = corr_matrix.where(np.triu(np.ones(corr_matrix.shape), k=1).astype(np.bool))\n",
    "to_drop = [column for column in upper.columns if any(upper[column] > 0.95)]\n",
    "df = df.drop(to_drop, axis=1)\n",
    "\n",
    "#Selecting features based on Random Forest\n",
    "to_drop = ['id_num', 'quidditch_league_player'] #Dropping id features and label feature\n",
    "df1 = df.drop(to_drop, axis=1)\n",
    "sel = SelectFromModel(RandomForestClassifier(n_estimators = 100))\n",
    "sel.fit(df1, df['quidditch_league_player'])\n",
    "selected_feat=[col for col in df1.columns[(sel.get_support())]] + to_drop\n",
    "df = df[selected_feat]\n",
    "\"\"\"\n",
    "df.shape"
   ]
  },
  {
   "cell_type": "code",
   "execution_count": 130,
   "metadata": {},
   "outputs": [
    {
     "data": {
      "text/plain": [
       "(87274, 193)"
      ]
     },
     "execution_count": 130,
     "metadata": {},
     "output_type": "execute_result"
    }
   ],
   "source": [
    "df = df[(np.abs(stats.zscore(df[num_col])) < 3).all(axis=1)]\n",
    "df.shape"
   ]
  },
  {
   "cell_type": "markdown",
   "metadata": {},
   "source": [
    "#### Any other Pre-processing Used. (Give the name along with the code.)"
   ]
  },
  {
   "cell_type": "code",
   "execution_count": 135,
   "metadata": {},
   "outputs": [],
   "source": [
    "from sklearn.model_selection import train_test_split\n",
    "X = df.loc[:, ~df.columns.isin(['quidditch_league_player', 'id_num', 'player_id'])]\n",
    "y = df.loc[:, df.columns == 'quidditch_league_player']\n",
    "X_train, X_test, y_train, y_test = train_test_split(X, y, test_size=0.3)"
   ]
  },
  {
   "cell_type": "code",
   "execution_count": 132,
   "metadata": {},
   "outputs": [
    {
     "name": "stderr",
     "output_type": "stream",
     "text": [
      "C:\\Users\\Satish\\Downloads\\WPy-3670\\python-3.6.7.amd64\\lib\\site-packages\\sklearn\\utils\\validation.py:752: DataConversionWarning: A column-vector y was passed when a 1d array was expected. Please change the shape of y to (n_samples, ), for example using ravel().\n",
      "  y = column_or_1d(y, warn=True)\n"
     ]
    },
    {
     "name": "stdout",
     "output_type": "stream",
     "text": [
      "length of oversampled data is  109082\n",
      "Number of no in oversampled data 54541\n",
      "Number of yes in oversampled data 54541\n",
      "Proportion of no data in oversampled data is  0.5\n",
      "Proportion of yes data in oversampled data is  0.5\n"
     ]
    }
   ],
   "source": [
    "#!pip install imblearn\n",
    "from imblearn.over_sampling import SMOTE\n",
    "os = SMOTE(random_state=0)\n",
    "columns = X_train.columns\n",
    "os_data_X,os_data_y=os.fit_sample(X_train, y_train)\n",
    "X_train = pd.DataFrame(data=os_data_X,columns=columns )\n",
    "y_train= pd.DataFrame(data=os_data_y,columns=['quidditch_league_player'])\n",
    "# we can Check the numbers of our data\n",
    "print(\"length of oversampled data is \",len(X_train))\n",
    "print(\"Number of no in oversampled data\",len(y_train[y_train['quidditch_league_player']==0]))\n",
    "print(\"Number of yes in oversampled data\",len(y_train[y_train['quidditch_league_player']==1]))\n",
    "print(\"Proportion of no data in oversampled data is \",len(y_train[y_train['quidditch_league_player']==0])/len(X_train))\n",
    "print(\"Proportion of yes data in oversampled data is \",len(y_train[y_train['quidditch_league_player']==1])/len(X_train))"
   ]
  },
  {
   "cell_type": "code",
   "execution_count": 10,
   "metadata": {},
   "outputs": [
    {
     "name": "stdout",
     "output_type": "stream",
     "text": [
      "Requirement already satisfied: matplotlib in c:\\users\\satish\\downloads\\wpy-3670\\python-3.6.7.amd64\\lib\\site-packages (3.0.1)\n",
      "Requirement already satisfied: pyparsing!=2.0.4,!=2.1.2,!=2.1.6,>=2.0.1 in c:\\users\\satish\\downloads\\wpy-3670\\python-3.6.7.amd64\\lib\\site-packages (from matplotlib) (2.2.2)\n",
      "Requirement already satisfied: kiwisolver>=1.0.1 in c:\\users\\satish\\downloads\\wpy-3670\\python-3.6.7.amd64\\lib\\site-packages (from matplotlib) (1.0.1)\n",
      "Requirement already satisfied: numpy>=1.10.0 in c:\\users\\satish\\downloads\\wpy-3670\\python-3.6.7.amd64\\lib\\site-packages (from matplotlib) (1.14.6+mkl)\n",
      "Requirement already satisfied: cycler>=0.10 in c:\\users\\satish\\downloads\\wpy-3670\\python-3.6.7.amd64\\lib\\site-packages (from matplotlib) (0.10.0)\n",
      "Requirement already satisfied: python-dateutil>=2.1 in c:\\users\\satish\\downloads\\wpy-3670\\python-3.6.7.amd64\\lib\\site-packages (from matplotlib) (2.7.5)\n",
      "Requirement already satisfied: setuptools in c:\\users\\satish\\downloads\\wpy-3670\\python-3.6.7.amd64\\lib\\site-packages (from kiwisolver>=1.0.1->matplotlib) (40.5.0)\n",
      "Requirement already satisfied: six in c:\\users\\satish\\downloads\\wpy-3670\\python-3.6.7.amd64\\lib\\site-packages (from cycler>=0.10->matplotlib) (1.11.0)\n"
     ]
    },
    {
     "name": "stderr",
     "output_type": "stream",
     "text": [
      "You are using pip version 18.1, however version 19.0.3 is available.\n",
      "You should consider upgrading via the 'python -m pip install --upgrade pip' command.\n"
     ]
    },
    {
     "data": {
      "image/png": "[encoded data removed]",
      "text/plain": [
       "<Figure size 432x288 with 1 Axes>"
      ]
     },
     "metadata": {
      "needs_background": "light"
     },
     "output_type": "display_data"
    }
   ],
   "source": [
    "#!pip install matplotlib\n",
    "import matplotlib.pyplot as plt\n",
    "pd.crosstab(X_train[\"num_games_notperformed\"],y_train.quidditch_league_player).plot(kind='bar')\n",
    "plt.title('Selection of Quidditch Player based on Num of Games Not Part of')\n",
    "plt.xlabel('Num of Games Not Part of')\n",
    "plt.ylabel('Frequency of Selection')\n",
    "plt.savefig('pur_numofgamesnotpartof_bar')\n",
    "plt.show()"
   ]
  },
  {
   "cell_type": "markdown",
   "metadata": {},
   "source": [
    "# PART II: Classification"
   ]
  },
  {
   "cell_type": "markdown",
   "metadata": {},
   "source": [
    "### Model 1:\n",
    "Model Name:-----------<br>\n",
    "Evaluation method and metric used Name:-----------<br>\n",
    "Name of the Hyperparameter used:--------------......<br>\n"
   ]
  },
  {
   "cell_type": "code",
   "execution_count": 107,
   "metadata": {},
   "outputs": [
    {
     "name": "stderr",
     "output_type": "stream",
     "text": [
      "C:\\Users\\Satish\\Downloads\\WPy-3670\\python-3.6.7.amd64\\lib\\site-packages\\sklearn\\linear_model\\logistic.py:432: FutureWarning: Default solver will be changed to 'lbfgs' in 0.22. Specify a solver to silence this warning.\n",
      "  FutureWarning)\n",
      "C:\\Users\\Satish\\Downloads\\WPy-3670\\python-3.6.7.amd64\\lib\\site-packages\\sklearn\\utils\\validation.py:752: DataConversionWarning: A column-vector y was passed when a 1d array was expected. Please change the shape of y to (n_samples, ), for example using ravel().\n",
      "  y = column_or_1d(y, warn=True)\n",
      "C:\\Users\\Satish\\Downloads\\WPy-3670\\python-3.6.7.amd64\\lib\\site-packages\\sklearn\\linear_model\\logistic.py:432: FutureWarning: Default solver will be changed to 'lbfgs' in 0.22. Specify a solver to silence this warning.\n",
      "  FutureWarning)\n",
      "C:\\Users\\Satish\\Downloads\\WPy-3670\\python-3.6.7.amd64\\lib\\site-packages\\sklearn\\utils\\validation.py:752: DataConversionWarning: A column-vector y was passed when a 1d array was expected. Please change the shape of y to (n_samples, ), for example using ravel().\n",
      "  y = column_or_1d(y, warn=True)\n",
      "C:\\Users\\Satish\\Downloads\\WPy-3670\\python-3.6.7.amd64\\lib\\site-packages\\sklearn\\linear_model\\logistic.py:432: FutureWarning: Default solver will be changed to 'lbfgs' in 0.22. Specify a solver to silence this warning.\n",
      "  FutureWarning)\n",
      "C:\\Users\\Satish\\Downloads\\WPy-3670\\python-3.6.7.amd64\\lib\\site-packages\\sklearn\\utils\\validation.py:752: DataConversionWarning: A column-vector y was passed when a 1d array was expected. Please change the shape of y to (n_samples, ), for example using ravel().\n",
      "  y = column_or_1d(y, warn=True)\n",
      "C:\\Users\\Satish\\Downloads\\WPy-3670\\python-3.6.7.amd64\\lib\\site-packages\\sklearn\\linear_model\\logistic.py:432: FutureWarning: Default solver will be changed to 'lbfgs' in 0.22. Specify a solver to silence this warning.\n",
      "  FutureWarning)\n",
      "C:\\Users\\Satish\\Downloads\\WPy-3670\\python-3.6.7.amd64\\lib\\site-packages\\sklearn\\utils\\validation.py:752: DataConversionWarning: A column-vector y was passed when a 1d array was expected. Please change the shape of y to (n_samples, ), for example using ravel().\n",
      "  y = column_or_1d(y, warn=True)\n",
      "C:\\Users\\Satish\\Downloads\\WPy-3670\\python-3.6.7.amd64\\lib\\site-packages\\sklearn\\linear_model\\logistic.py:432: FutureWarning: Default solver will be changed to 'lbfgs' in 0.22. Specify a solver to silence this warning.\n",
      "  FutureWarning)\n",
      "C:\\Users\\Satish\\Downloads\\WPy-3670\\python-3.6.7.amd64\\lib\\site-packages\\sklearn\\utils\\validation.py:752: DataConversionWarning: A column-vector y was passed when a 1d array was expected. Please change the shape of y to (n_samples, ), for example using ravel().\n",
      "  y = column_or_1d(y, warn=True)\n",
      "C:\\Users\\Satish\\Downloads\\WPy-3670\\python-3.6.7.amd64\\lib\\site-packages\\sklearn\\linear_model\\logistic.py:432: FutureWarning: Default solver will be changed to 'lbfgs' in 0.22. Specify a solver to silence this warning.\n",
      "  FutureWarning)\n",
      "C:\\Users\\Satish\\Downloads\\WPy-3670\\python-3.6.7.amd64\\lib\\site-packages\\sklearn\\utils\\validation.py:752: DataConversionWarning: A column-vector y was passed when a 1d array was expected. Please change the shape of y to (n_samples, ), for example using ravel().\n",
      "  y = column_or_1d(y, warn=True)\n",
      "C:\\Users\\Satish\\Downloads\\WPy-3670\\python-3.6.7.amd64\\lib\\site-packages\\sklearn\\linear_model\\logistic.py:432: FutureWarning: Default solver will be changed to 'lbfgs' in 0.22. Specify a solver to silence this warning.\n",
      "  FutureWarning)\n",
      "C:\\Users\\Satish\\Downloads\\WPy-3670\\python-3.6.7.amd64\\lib\\site-packages\\sklearn\\utils\\validation.py:752: DataConversionWarning: A column-vector y was passed when a 1d array was expected. Please change the shape of y to (n_samples, ), for example using ravel().\n",
      "  y = column_or_1d(y, warn=True)\n",
      "C:\\Users\\Satish\\Downloads\\WPy-3670\\python-3.6.7.amd64\\lib\\site-packages\\sklearn\\linear_model\\logistic.py:432: FutureWarning: Default solver will be changed to 'lbfgs' in 0.22. Specify a solver to silence this warning.\n",
      "  FutureWarning)\n",
      "C:\\Users\\Satish\\Downloads\\WPy-3670\\python-3.6.7.amd64\\lib\\site-packages\\sklearn\\utils\\validation.py:752: DataConversionWarning: A column-vector y was passed when a 1d array was expected. Please change the shape of y to (n_samples, ), for example using ravel().\n",
      "  y = column_or_1d(y, warn=True)\n",
      "C:\\Users\\Satish\\Downloads\\WPy-3670\\python-3.6.7.amd64\\lib\\site-packages\\sklearn\\linear_model\\logistic.py:432: FutureWarning: Default solver will be changed to 'lbfgs' in 0.22. Specify a solver to silence this warning.\n",
      "  FutureWarning)\n",
      "C:\\Users\\Satish\\Downloads\\WPy-3670\\python-3.6.7.amd64\\lib\\site-packages\\sklearn\\utils\\validation.py:752: DataConversionWarning: A column-vector y was passed when a 1d array was expected. Please change the shape of y to (n_samples, ), for example using ravel().\n",
      "  y = column_or_1d(y, warn=True)\n",
      "C:\\Users\\Satish\\Downloads\\WPy-3670\\python-3.6.7.amd64\\lib\\site-packages\\sklearn\\linear_model\\logistic.py:432: FutureWarning: Default solver will be changed to 'lbfgs' in 0.22. Specify a solver to silence this warning.\n",
      "  FutureWarning)\n",
      "C:\\Users\\Satish\\Downloads\\WPy-3670\\python-3.6.7.amd64\\lib\\site-packages\\sklearn\\utils\\validation.py:752: DataConversionWarning: A column-vector y was passed when a 1d array was expected. Please change the shape of y to (n_samples, ), for example using ravel().\n",
      "  y = column_or_1d(y, warn=True)\n"
     ]
    },
    {
     "name": "stdout",
     "output_type": "stream",
     "text": [
      "Cross Validation Score: 61.88%\n"
     ]
    },
    {
     "name": "stderr",
     "output_type": "stream",
     "text": [
      "C:\\Users\\Satish\\Downloads\\WPy-3670\\python-3.6.7.amd64\\lib\\site-packages\\sklearn\\linear_model\\logistic.py:432: FutureWarning: Default solver will be changed to 'lbfgs' in 0.22. Specify a solver to silence this warning.\n",
      "  FutureWarning)\n",
      "C:\\Users\\Satish\\Downloads\\WPy-3670\\python-3.6.7.amd64\\lib\\site-packages\\sklearn\\utils\\validation.py:752: DataConversionWarning: A column-vector y was passed when a 1d array was expected. Please change the shape of y to (n_samples, ), for example using ravel().\n",
      "  y = column_or_1d(y, warn=True)\n"
     ]
    },
    {
     "name": "stdout",
     "output_type": "stream",
     "text": [
      "Accuracy of Logistic Regression on test set: 0.62\n"
     ]
    }
   ],
   "source": [
    "from sklearn.model_selection import train_test_split\n",
    "from sklearn.linear_model import LogisticRegression\n",
    "from sklearn.model_selection import cross_val_score\n",
    "logreg = LogisticRegression(fit_intercept=True, penalty='l1', class_weight='balanced')\n",
    "print(\"Cross Validation Score: {:.2%}\".format(np.mean(cross_val_score(logreg, X_train, y_train, cv=10))))\n",
    "logreg.fit(X_train, y_train)\n",
    "y_pred=logreg.predict(X_test)\n",
    "print('Accuracy of Logistic Regression on test set: {:.2f}'.format(logreg.score(X_test, y_test)))"
   ]
  },
  {
   "cell_type": "code",
   "execution_count": 52,
   "metadata": {},
   "outputs": [
    {
     "data": {
      "image/png": "[encoded data removed]",
      "text/plain": [
       "<Figure size 432x288 with 1 Axes>"
      ]
     },
     "metadata": {
      "needs_background": "light"
     },
     "output_type": "display_data"
    }
   ],
   "source": [
    "from sklearn.metrics import confusion_matrix\n",
    "confusion_matrix = confusion_matrix(y_test, y_pred)\n",
    "print(confusion_matrix)\n",
    "\n",
    "from sklearn.metrics import classification_report\n",
    "print(classification_report(y_test, y_pred))\n",
    "\n",
    "from sklearn.metrics import roc_auc_score\n",
    "from sklearn.metrics import roc_curve\n",
    "import matplotlib.pyplot as plt\n",
    "logreg_roc_auc = roc_auc_score(y_test, logreg.predict(X_test))\n",
    "fpr, tpr, thresholds = roc_curve(y_test, logreg.predict_proba(X_test)[:,1])\n",
    "plt.figure()\n",
    "plt.plot(fpr, tpr, label='Logistic Regression (area = %0.2f)' % logreg_roc_auc)\n",
    "plt.plot([0, 1], [0, 1],'r--')\n",
    "plt.xlim([0.0, 1.0])\n",
    "plt.ylim([0.0, 1.05])\n",
    "plt.xlabel('False Positive Rate')\n",
    "plt.ylabel('True Positive Rate')\n",
    "plt.title('Receiver operating characteristic')\n",
    "plt.legend(loc=\"lower right\")\n",
    "plt.savefig('LOGREG_ROC')\n",
    "plt.show()"
   ]
  },
  {
   "cell_type": "markdown",
   "metadata": {},
   "source": [
    "### Model 2:\n",
    "Model Name:-----------<br>\n",
    "Evaluation method and metric used Name:-----------<br>\n",
    "Name of the Hyperparameter used:--------------......<br>\n"
   ]
  },
  {
   "cell_type": "code",
   "execution_count": 133,
   "metadata": {},
   "outputs": [
    {
     "name": "stdout",
     "output_type": "stream",
     "text": [
      "Accuracy of dtree classifier on test set: 0.88\n",
      "[(0.2831, 'num_games_notpartof'), (0.2053, 'player_code_MC'), (0.1105, 'move_specialty_specialty19'), (0.1019, 'game_move_id_1'), (0.0527, 'age'), (0.0519, 'game_move_id_3'), (0.0416, 'num_games_won'), (0.0342, 'game_move_id_22'), (0.0323, 'player_type_Chaser1'), (0.0206, 'reverse_pass'), (0.0105, 'player_code_SP'), (0.0058, 'body_blow'), (0.0057, 'game_duration'), (0.0046, 'gender_Female'), (0.0036, 'foul_type_id_3'), (0.0032, 'player_code_MD'), (0.003, 'snitch_caught'), (0.0027, 'game_move_id_11'), (0.0026, 'player_type_Chaser2'), (0.0023, 'num_practice_sessions'), (0.0022, 'player_code_HM'), (0.0021, 'move_specialty_specialty12'), (0.0019, 'num_game_losses'), (0.0017, 'player_code_DM'), (0.0016, 'player_type_Chaser3'), (0.0016, 'game_move_id_6'), (0.0012, 'foul_type_id_2'), (0.0011, 'game_move_id_5'), (0.001, 'penalty_id_6'), (0.0009, 'player_type_Seeker'), (0.0008, 'player_code_BC'), (0.0006, 'move_specialty_specialty63'), (0.0004, 'spiral_dive'), (0.0004, 'move_specialty_specialty16'), (0.0004, 'house_Gryffindor'), (0.0004, 'change'), (0.0003, 'penalty_id_17'), (0.0003, 'num_game_moves'), (0.0003, 'move_specialty_specialty26'), (0.0003, 'house_Slytherin'), (0.0003, 'gender_Male'), (0.0002, 'sloth_grip_roll'), (0.0002, 'player_type_Beater2'), (0.0002, 'player_code_CM'), (0.0002, 'penalty_id_7'), (0.0002, 'no_hands_tackle'), (0.0002, 'house_Other'), (0.0002, 'game_move_id_2'), (0.0002, 'foul_type_id_6'), (0.0002, 'foul_type_id_1'), (0.0001, 'player_type_Multiple'), (0.0001, 'player_type_Captain'), (0.0001, 'player_code_UN'), (0.0001, 'move_specialty_specialty69'), (0.0, 'zig-zag'), (0.0, 'wronski_feint'), (0.0, 'woollongong_shimmy'), (0.0, 'twirl'), (0.0, 'transylvanian_tackle'), (0.0, 'stooging'), (0.0, 'starfish_and_stick'), (0.0, 'snitchnip'), (0.0, 'power_play'), (0.0, 'porskoff_ploy'), (0.0, 'plumpton_pass'), (0.0, 'player_type_Keeper'), (0.0, 'player_type_Beater1'), (0.0, 'player_code_WC'), (0.0, 'player_code_SI'), (0.0, 'player_code_PO'), (0.0, 'player_code_OT'), (0.0, 'player_code_OG'), (0.0, 'player_code_MP'), (0.0, 'player_code_FR'), (0.0, 'player_code_CP'), (0.0, 'player_code_CH'), (0.0, 'penalty_id_9'), (0.0, 'penalty_id_8'), (0.0, 'penalty_id_5'), (0.0, 'penalty_id_4'), (0.0, 'penalty_id_3'), (0.0, 'penalty_id_25'), (0.0, 'penalty_id_22'), (0.0, 'penalty_id_20'), (0.0, 'penalty_id_2'), (0.0, 'penalty_id_14'), (0.0, 'penalty_id_13'), (0.0, 'penalty_id_11'), (0.0, 'penalty_id_10'), (0.0, 'penalty_id_1'), (0.0, 'parkins_pincer'), (0.0, 'num_games_satout'), (0.0, 'num_games_injured'), (0.0, 'move_specialty_specialty9'), (0.0, 'move_specialty_specialty8'), (0.0, 'move_specialty_specialty72'), (0.0, 'move_specialty_specialty71'), (0.0, 'move_specialty_specialty70'), (0.0, 'move_specialty_specialty7'), (0.0, 'move_specialty_specialty68'), (0.0, 'move_specialty_specialty67'), (0.0, 'move_specialty_specialty66'), (0.0, 'move_specialty_specialty65'), (0.0, 'move_specialty_specialty64'), (0.0, 'move_specialty_specialty62'), (0.0, 'move_specialty_specialty61'), (0.0, 'move_specialty_specialty60'), (0.0, 'move_specialty_specialty6'), (0.0, 'move_specialty_specialty59'), (0.0, 'move_specialty_specialty58'), (0.0, 'move_specialty_specialty57'), (0.0, 'move_specialty_specialty56'), (0.0, 'move_specialty_specialty55'), (0.0, 'move_specialty_specialty54'), (0.0, 'move_specialty_specialty53'), (0.0, 'move_specialty_specialty52'), (0.0, 'move_specialty_specialty51'), (0.0, 'move_specialty_specialty50'), (0.0, 'move_specialty_specialty5'), (0.0, 'move_specialty_specialty49'), (0.0, 'move_specialty_specialty48'), (0.0, 'move_specialty_specialty47'), (0.0, 'move_specialty_specialty46'), (0.0, 'move_specialty_specialty45'), (0.0, 'move_specialty_specialty44'), (0.0, 'move_specialty_specialty43'), (0.0, 'move_specialty_specialty42'), (0.0, 'move_specialty_specialty41'), (0.0, 'move_specialty_specialty40'), (0.0, 'move_specialty_specialty4'), (0.0, 'move_specialty_specialty39'), (0.0, 'move_specialty_specialty38'), (0.0, 'move_specialty_specialty37'), (0.0, 'move_specialty_specialty36'), (0.0, 'move_specialty_specialty35'), (0.0, 'move_specialty_specialty34'), (0.0, 'move_specialty_specialty33'), (0.0, 'move_specialty_specialty32'), (0.0, 'move_specialty_specialty31'), (0.0, 'move_specialty_specialty30'), (0.0, 'move_specialty_specialty3'), (0.0, 'move_specialty_specialty29'), (0.0, 'move_specialty_specialty28'), (0.0, 'move_specialty_specialty27'), (0.0, 'move_specialty_specialty25'), (0.0, 'move_specialty_specialty24'), (0.0, 'move_specialty_specialty23'), (0.0, 'move_specialty_specialty22'), (0.0, 'move_specialty_specialty21'), (0.0, 'move_specialty_specialty20'), (0.0, 'move_specialty_specialty2'), (0.0, 'move_specialty_specialty18'), (0.0, 'move_specialty_specialty17'), (0.0, 'move_specialty_specialty15'), (0.0, 'move_specialty_specialty14'), (0.0, 'move_specialty_specialty13'), (0.0, 'move_specialty_specialty11'), (0.0, 'move_specialty_specialty10'), (0.0, 'move_specialty_specialty1'), (0.0, 'house_Ravenclaw'), (0.0, 'house_Hufflepuff'), (0.0, 'hawkshead_attacking_formation'), (0.0, 'game_move_id_9'), (0.0, 'game_move_id_8'), (0.0, 'game_move_id_7'), (0.0, 'game_move_id_4'), (0.0, 'game_move_id_28'), (0.0, 'game_move_id_27'), (0.0, 'game_move_id_25'), (0.0, 'game_move_id_24'), (0.0, 'game_move_id_23'), (0.0, 'game_move_id_20'), (0.0, 'game_move_id_19'), (0.0, 'game_move_id_18'), (0.0, 'game_move_id_17'), (0.0, 'game_move_id_16'), (0.0, 'game_move_id_15'), (0.0, 'game_move_id_14'), (0.0, 'game_move_id_13'), (0.0, 'game_move_id_12'), (0.0, 'game_move_id_10'), (0.0, 'foul_type_id_8'), (0.0, 'foul_type_id_7'), (0.0, 'foul_type_id_5'), (0.0, 'foul_type_id_4'), (0.0, 'dopplebeater_defence'), (0.0, 'dionysus_dive'), (0.0, 'chelmondiston_charge'), (0.0, 'checking'), (0.0, 'bludger_backbeat')]\n"
     ]
    }
   ],
   "source": [
    "from sklearn.tree import DecisionTreeClassifier\n",
    "dtree= DecisionTreeClassifier(max_depth=10, max_features=None, min_samples_leaf=15)\n",
    "dtree.fit(X_train, y_train)\n",
    "y_pred=dtree.predict(X_test)\n",
    "print('Accuracy of dtree classifier on test set: {:.2f}'.format(dtree.score(X_test, y_test)))\n",
    "print(sorted(zip(map(lambda x: round(x, 4), dtree.feature_importances_), X_test.columns), reverse=True))"
   ]
  },
  {
   "cell_type": "code",
   "execution_count": 134,
   "metadata": {},
   "outputs": [
    {
     "name": "stdout",
     "output_type": "stream",
     "text": [
      "[[22687   701]\n",
      " [ 2568   227]]\n",
      "              precision    recall  f1-score   support\n",
      "\n",
      "           0       0.90      0.97      0.93     23388\n",
      "           1       0.24      0.08      0.12      2795\n",
      "\n",
      "   micro avg       0.88      0.88      0.88     26183\n",
      "   macro avg       0.57      0.53      0.53     26183\n",
      "weighted avg       0.83      0.88      0.85     26183\n",
      "\n"
     ]
    },
    {
     "data": {
      "image/png": "[encoded data removed]",
      "text/plain": [
       "<Figure size 432x288 with 1 Axes>"
      ]
     },
     "metadata": {
      "needs_background": "light"
     },
     "output_type": "display_data"
    }
   ],
   "source": [
    "from sklearn.metrics import confusion_matrix\n",
    "confusion_matrix = confusion_matrix(y_test, y_pred)\n",
    "print(confusion_matrix)\n",
    "\n",
    "from sklearn.metrics import classification_report\n",
    "print(classification_report(y_test, y_pred))\n",
    "\n",
    "from sklearn.metrics import roc_auc_score\n",
    "from sklearn.metrics import roc_curve\n",
    "import matplotlib.pyplot as plt\n",
    "dtree_roc_auc = roc_auc_score(y_test, dtree.predict(X_test))\n",
    "fpr, tpr, thresholds = roc_curve(y_test, dtree.predict_proba(X_test)[:,1])\n",
    "plt.figure()\n",
    "plt.plot(fpr, tpr, label='Decision Tree (area = %0.2f)' % dtree_roc_auc)\n",
    "plt.plot([0, 1], [0, 1],'r--')\n",
    "plt.xlim([0.0, 1.0])\n",
    "plt.ylim([0.0, 1.05])\n",
    "plt.xlabel('False Positive Rate')\n",
    "plt.ylabel('True Positive Rate')\n",
    "plt.title('Receiver operating characteristic')\n",
    "plt.legend(loc=\"lower right\")\n",
    "plt.savefig('DTree_ROC')\n",
    "plt.show()"
   ]
  },
  {
   "cell_type": "markdown",
   "metadata": {},
   "source": [
    "### Model 3:\n",
    "Model Name:-----------<br>\n",
    "Evaluation method and metric used Name:-----------<br>\n",
    "Name of the Hyperparameter used:--------------......<br>\n"
   ]
  },
  {
   "cell_type": "code",
   "execution_count": 144,
   "metadata": {},
   "outputs": [
    {
     "name": "stderr",
     "output_type": "stream",
     "text": [
      "C:\\Users\\Satish\\Downloads\\WPy-3670\\python-3.6.7.amd64\\lib\\site-packages\\ipykernel_launcher.py:3: DataConversionWarning: A column-vector y was passed when a 1d array was expected. Please change the shape of y to (n_samples,), for example using ravel().\n",
      "  This is separate from the ipykernel package so we can avoid doing imports until\n"
     ]
    },
    {
     "name": "stdout",
     "output_type": "stream",
     "text": [
      "Accuracy of rfm classifier on test set: 0.33\n",
      "[(0.1645, 'num_game_moves'), (0.1146, 'num_practice_sessions'), (0.0673, 'game_duration'), (0.0504, 'game_move_id_11'), (0.0492, 'num_games_won'), (0.0468, 'age'), (0.0449, 'num_game_losses'), (0.0426, 'num_games_notpartof'), (0.0311, 'game_move_id_1'), (0.028, 'reverse_pass'), (0.0151, 'move_specialty_specialty19'), (0.0149, 'change'), (0.0142, 'stooging'), (0.0134, 'body_blow'), (0.0131, 'player_code_MC'), (0.0128, 'player_type_Chaser1'), (0.0123, 'snitch_caught'), (0.0122, 'player_type_Chaser2'), (0.012, 'gender_Female'), (0.0119, 'gender_Male'), (0.0118, 'foul_type_id_1'), (0.01, 'penalty_id_7'), (0.0092, 'house_Gryffindor'), (0.0081, 'spiral_dive'), (0.0077, 'num_games_satout'), (0.0077, 'foul_type_id_3'), (0.0076, 'penalty_id_1'), (0.0072, 'player_type_Multiple'), (0.0068, 'foul_type_id_2'), (0.0065, 'game_move_id_22'), (0.0062, 'player_type_Keeper'), (0.0057, 'player_type_Beater2'), (0.0057, 'player_code_BC'), (0.0053, 'player_type_Chaser3'), (0.0053, 'house_Slytherin'), (0.0052, 'penalty_id_4'), (0.0051, 'sloth_grip_roll'), (0.0051, 'game_move_id_6'), (0.0049, 'move_specialty_specialty9'), (0.0046, 'player_code_HM'), (0.0045, 'move_specialty_specialty4'), (0.0043, 'twirl'), (0.0042, 'move_specialty_specialty29'), (0.0039, 'game_move_id_13'), (0.0037, 'player_type_Beater1'), (0.0034, 'no_hands_tackle'), (0.0033, 'player_type_Seeker'), (0.0033, 'move_specialty_specialty12'), (0.0032, 'game_move_id_3'), (0.003, 'snitchnip'), (0.0028, 'wronski_feint'), (0.0027, 'penalty_id_17'), (0.0026, 'move_specialty_specialty63'), (0.0024, 'player_code_CP'), (0.0024, 'foul_type_id_5'), (0.0023, 'player_code_SP'), (0.0023, 'house_Hufflepuff'), (0.0022, 'player_code_CM'), (0.0021, 'game_move_id_23'), (0.0021, 'game_move_id_18'), (0.002, 'parkins_pincer'), (0.002, 'num_games_injured'), (0.002, 'move_specialty_specialty28'), (0.0019, 'foul_type_id_6'), (0.0018, 'player_type_Captain'), (0.0018, 'player_code_UN'), (0.0017, 'move_specialty_specialty65'), (0.0017, 'game_move_id_25'), (0.0017, 'game_move_id_14'), (0.0016, 'penalty_id_6'), (0.0013, 'player_code_MD'), (0.0013, 'move_specialty_specialty61'), (0.0013, 'game_move_id_5'), (0.0013, 'game_move_id_2'), (0.0011, 'move_specialty_specialty25'), (0.001, 'penalty_id_5'), (0.0009, 'checking'), (0.0008, 'player_code_PO'), (0.0008, 'house_Other'), (0.0005, 'penalty_id_2'), (0.0005, 'game_move_id_4'), (0.0005, 'foul_type_id_8'), (0.0004, 'move_specialty_specialty72'), (0.0004, 'move_specialty_specialty53'), (0.0003, 'move_specialty_specialty52'), (0.0003, 'game_move_id_7'), (0.0002, 'move_specialty_specialty20'), (0.0002, 'move_specialty_specialty13'), (0.0002, 'game_move_id_28'), (0.0001, 'zig-zag'), (0.0001, 'player_code_OG'), (0.0001, 'player_code_DM'), (0.0001, 'move_specialty_specialty70'), (0.0001, 'move_specialty_specialty48'), (0.0001, 'house_Ravenclaw'), (0.0001, 'dopplebeater_defence'), (0.0, 'woollongong_shimmy'), (0.0, 'transylvanian_tackle'), (0.0, 'starfish_and_stick'), (0.0, 'power_play'), (0.0, 'porskoff_ploy'), (0.0, 'plumpton_pass'), (0.0, 'player_code_WC'), (0.0, 'player_code_SI'), (0.0, 'player_code_OT'), (0.0, 'player_code_MP'), (0.0, 'player_code_FR'), (0.0, 'player_code_CH'), (0.0, 'penalty_id_9'), (0.0, 'penalty_id_8'), (0.0, 'penalty_id_3'), (0.0, 'penalty_id_25'), (0.0, 'penalty_id_22'), (0.0, 'penalty_id_20'), (0.0, 'penalty_id_14'), (0.0, 'penalty_id_13'), (0.0, 'penalty_id_11'), (0.0, 'penalty_id_10'), (0.0, 'move_specialty_specialty8'), (0.0, 'move_specialty_specialty71'), (0.0, 'move_specialty_specialty7'), (0.0, 'move_specialty_specialty69'), (0.0, 'move_specialty_specialty68'), (0.0, 'move_specialty_specialty67'), (0.0, 'move_specialty_specialty66'), (0.0, 'move_specialty_specialty64'), (0.0, 'move_specialty_specialty62'), (0.0, 'move_specialty_specialty60'), (0.0, 'move_specialty_specialty6'), (0.0, 'move_specialty_specialty59'), (0.0, 'move_specialty_specialty58'), (0.0, 'move_specialty_specialty57'), (0.0, 'move_specialty_specialty56'), (0.0, 'move_specialty_specialty55'), (0.0, 'move_specialty_specialty54'), (0.0, 'move_specialty_specialty51'), (0.0, 'move_specialty_specialty50'), (0.0, 'move_specialty_specialty5'), (0.0, 'move_specialty_specialty49'), (0.0, 'move_specialty_specialty47'), (0.0, 'move_specialty_specialty46'), (0.0, 'move_specialty_specialty45'), (0.0, 'move_specialty_specialty44'), (0.0, 'move_specialty_specialty43'), (0.0, 'move_specialty_specialty42'), (0.0, 'move_specialty_specialty41'), (0.0, 'move_specialty_specialty40'), (0.0, 'move_specialty_specialty39'), (0.0, 'move_specialty_specialty38'), (0.0, 'move_specialty_specialty37'), (0.0, 'move_specialty_specialty36'), (0.0, 'move_specialty_specialty35'), (0.0, 'move_specialty_specialty34'), (0.0, 'move_specialty_specialty33'), (0.0, 'move_specialty_specialty32'), (0.0, 'move_specialty_specialty31'), (0.0, 'move_specialty_specialty30'), (0.0, 'move_specialty_specialty3'), (0.0, 'move_specialty_specialty27'), (0.0, 'move_specialty_specialty26'), (0.0, 'move_specialty_specialty24'), (0.0, 'move_specialty_specialty23'), (0.0, 'move_specialty_specialty22'), (0.0, 'move_specialty_specialty21'), (0.0, 'move_specialty_specialty2'), (0.0, 'move_specialty_specialty18'), (0.0, 'move_specialty_specialty17'), (0.0, 'move_specialty_specialty16'), (0.0, 'move_specialty_specialty15'), (0.0, 'move_specialty_specialty14'), (0.0, 'move_specialty_specialty11'), (0.0, 'move_specialty_specialty10'), (0.0, 'move_specialty_specialty1'), (0.0, 'hawkshead_attacking_formation'), (0.0, 'game_move_id_9'), (0.0, 'game_move_id_8'), (0.0, 'game_move_id_27'), (0.0, 'game_move_id_24'), (0.0, 'game_move_id_20'), (0.0, 'game_move_id_19'), (0.0, 'game_move_id_17'), (0.0, 'game_move_id_16'), (0.0, 'game_move_id_15'), (0.0, 'game_move_id_12'), (0.0, 'game_move_id_10'), (0.0, 'foul_type_id_7'), (0.0, 'foul_type_id_4'), (0.0, 'dionysus_dive'), (0.0, 'chelmondiston_charge'), (0.0, 'bludger_backbeat')]\n"
     ]
    }
   ],
   "source": [
    "from sklearn.ensemble import RandomForestClassifier\n",
    "rfm = RandomForestClassifier(n_estimators=100, oob_score=True, n_jobs=-1, max_features=None, min_samples_leaf=30, class_weight={0: 1, 1: 50})\n",
    "rfm.fit(X_train, y_train)\n",
    "y_pred= rfm.predict(X_test)\n",
    "print('Accuracy of rfm classifier on test set: {:.2f}'.format(rfm.score(X_test, y_test)))\n",
    "print(sorted(zip(map(lambda x: round(x, 4), rfm.feature_importances_), X_test.columns), reverse=True))"
   ]
  },
  {
   "cell_type": "code",
   "execution_count": 137,
   "metadata": {},
   "outputs": [
    {
     "name": "stdout",
     "output_type": "stream",
     "text": [
      "[[18959  4439]\n",
      " [ 1691  1094]]\n",
      "              precision    recall  f1-score   support\n",
      "\n",
      "           0       0.92      0.81      0.86     23398\n",
      "           1       0.20      0.39      0.26      2785\n",
      "\n",
      "   micro avg       0.77      0.77      0.77     26183\n",
      "   macro avg       0.56      0.60      0.56     26183\n",
      "weighted avg       0.84      0.77      0.80     26183\n",
      "\n"
     ]
    },
    {
     "data": {
      "image/png": "[encoded data removed]",
      "text/plain": [
       "<Figure size 432x288 with 1 Axes>"
      ]
     },
     "metadata": {
      "needs_background": "light"
     },
     "output_type": "display_data"
    }
   ],
   "source": [
    "from sklearn.metrics import confusion_matrix\n",
    "confusion_matrix = confusion_matrix(y_test, y_pred)\n",
    "print(confusion_matrix)\n",
    "\n",
    "from sklearn.metrics import classification_report\n",
    "print(classification_report(y_test, y_pred))\n",
    "\n",
    "\n",
    "from sklearn.metrics import roc_auc_score\n",
    "from sklearn.metrics import roc_curve\n",
    "import matplotlib.pyplot as plt\n",
    "rfm_roc_auc = roc_auc_score(y_test, rfm.predict(X_test))\n",
    "fpr, tpr, thresholds = roc_curve(y_test, rfm.predict_proba(X_test)[:,1])\n",
    "plt.figure()\n",
    "plt.plot(fpr, tpr, label='Random Forest (area = %0.2f)' % rfm_roc_auc)\n",
    "plt.plot([0, 1], [0, 1],'r--')\n",
    "plt.xlim([0.0, 1.0])\n",
    "plt.ylim([0.0, 1.05])\n",
    "plt.xlabel('False Positive Rate')\n",
    "plt.ylabel('True Positive Rate')\n",
    "plt.title('Receiver operating characteristic')\n",
    "plt.legend(loc=\"lower right\")\n",
    "plt.savefig('RFM_ROC')\n",
    "plt.show()"
   ]
  },
  {
   "cell_type": "code",
   "execution_count": 139,
   "metadata": {},
   "outputs": [
    {
     "name": "stderr",
     "output_type": "stream",
     "text": [
      "C:\\Users\\Satish\\Downloads\\WPy-3670\\python-3.6.7.amd64\\lib\\site-packages\\ipykernel_launcher.py:6: DataConversionWarning: A column-vector y was passed when a 1d array was expected. Please change the shape of y to (n_samples,), for example using ravel().\n",
      "  \n"
     ]
    },
    {
     "name": "stdout",
     "output_type": "stream",
     "text": [
      "Accuracy of rfm classifier on test set: 0.60\n",
      "Balanced Accuracy score of rfm classifier on test set: 0.61\n",
      "[(0.0881, 'num_game_moves'), (0.0815, 'num_practice_sessions'), (0.0627, 'game_duration'), (0.0626, 'num_games_notpartof'), (0.0469, 'age'), (0.0443, 'num_games_won'), (0.0411, 'num_game_losses'), (0.0313, 'reverse_pass'), (0.0214, 'game_move_id_1'), (0.0182, 'stooging'), (0.0167, 'num_games_satout'), (0.0162, 'player_type_Chaser1'), (0.0149, 'gender_Male'), (0.0148, 'gender_Female'), (0.0146, 'change'), (0.0146, 'body_blow'), (0.0145, 'move_specialty_specialty19'), (0.0142, 'game_move_id_11'), (0.0135, 'game_move_id_22'), (0.0129, 'sloth_grip_roll'), (0.0129, 'player_code_MC'), (0.0124, 'game_move_id_3'), (0.0122, 'house_Gryffindor'), (0.0121, 'spiral_dive'), (0.0121, 'foul_type_id_1'), (0.0118, 'player_type_Multiple'), (0.0118, 'house_Slytherin'), (0.0117, 'penalty_id_7'), (0.0111, 'snitch_caught'), (0.0111, 'player_type_Chaser2'), (0.0109, 'penalty_id_1'), (0.0108, 'foul_type_id_2'), (0.0094, 'foul_type_id_3'), (0.0089, 'num_games_injured'), (0.0089, 'game_move_id_6'), (0.0084, 'player_type_Chaser3'), (0.0076, 'twirl'), (0.0073, 'move_specialty_specialty12'), (0.0071, 'player_type_Beater1'), (0.007, 'player_type_Beater2'), (0.0069, 'wronski_feint'), (0.0063, 'move_specialty_specialty9'), (0.0061, 'snitchnip'), (0.0061, 'player_type_Seeker'), (0.0059, 'no_hands_tackle'), (0.0053, 'player_code_HM'), (0.005, 'move_specialty_specialty4'), (0.0048, 'player_type_Keeper'), (0.0048, 'player_type_Captain'), (0.0047, 'penalty_id_17'), (0.0046, 'game_move_id_2'), (0.0046, 'foul_type_id_6'), (0.0045, 'player_code_SP'), (0.0044, 'game_move_id_5'), (0.0042, 'player_code_BC'), (0.0042, 'foul_type_id_5'), (0.0041, 'game_move_id_18'), (0.0037, 'move_specialty_specialty63'), (0.0032, 'player_code_MD'), (0.0032, 'penalty_id_4'), (0.0026, 'player_code_CP'), (0.0025, 'player_code_UN'), (0.0025, 'house_Hufflepuff'), (0.0025, 'checking'), (0.0024, 'player_code_CM'), (0.0024, 'move_specialty_specialty20'), (0.0023, 'penalty_id_6'), (0.0021, 'move_specialty_specialty28'), (0.0017, 'house_Other'), (0.0016, 'move_specialty_specialty29'), (0.0016, 'game_move_id_4'), (0.0015, 'move_specialty_specialty61'), (0.0015, 'move_specialty_specialty53'), (0.0014, 'penalty_id_2'), (0.0013, 'penalty_id_5'), (0.0012, 'move_specialty_specialty52'), (0.0012, 'game_move_id_25'), (0.0011, 'player_code_OG'), (0.0011, 'move_specialty_specialty48'), (0.0011, 'move_specialty_specialty13'), (0.0011, 'game_move_id_23'), (0.0011, 'game_move_id_13'), (0.001, 'parkins_pincer'), (0.001, 'move_specialty_specialty70'), (0.001, 'house_Ravenclaw'), (0.0009, 'move_specialty_specialty72'), (0.0009, 'game_move_id_7'), (0.0009, 'dopplebeater_defence'), (0.0008, 'player_code_PO'), (0.0007, 'move_specialty_specialty44'), (0.0007, 'move_specialty_specialty26'), (0.0007, 'game_move_id_14'), (0.0006, 'player_code_DM'), (0.0006, 'move_specialty_specialty25'), (0.0006, 'game_move_id_28'), (0.0005, 'move_specialty_specialty65'), (0.0004, 'move_specialty_specialty16'), (0.0004, 'move_specialty_specialty15'), (0.0004, 'game_move_id_15'), (0.0004, 'foul_type_id_8'), (0.0003, 'zig-zag'), (0.0003, 'penalty_id_3'), (0.0003, 'penalty_id_20'), (0.0002, 'penalty_id_9'), (0.0002, 'move_specialty_specialty34'), (0.0001, 'player_code_WC'), (0.0001, 'player_code_OT'), (0.0001, 'player_code_MP'), (0.0001, 'player_code_CH'), (0.0001, 'move_specialty_specialty69'), (0.0001, 'move_specialty_specialty60'), (0.0001, 'move_specialty_specialty54'), (0.0001, 'move_specialty_specialty46'), (0.0001, 'move_specialty_specialty31'), (0.0001, 'move_specialty_specialty21'), (0.0001, 'move_specialty_specialty18'), (0.0001, 'move_specialty_specialty10'), (0.0001, 'hawkshead_attacking_formation'), (0.0001, 'game_move_id_8'), (0.0, 'woollongong_shimmy'), (0.0, 'transylvanian_tackle'), (0.0, 'starfish_and_stick'), (0.0, 'power_play'), (0.0, 'porskoff_ploy'), (0.0, 'plumpton_pass'), (0.0, 'player_code_SI'), (0.0, 'player_code_FR'), (0.0, 'penalty_id_8'), (0.0, 'penalty_id_25'), (0.0, 'penalty_id_22'), (0.0, 'penalty_id_14'), (0.0, 'penalty_id_13'), (0.0, 'penalty_id_11'), (0.0, 'penalty_id_10'), (0.0, 'move_specialty_specialty8'), (0.0, 'move_specialty_specialty71'), (0.0, 'move_specialty_specialty7'), (0.0, 'move_specialty_specialty68'), (0.0, 'move_specialty_specialty67'), (0.0, 'move_specialty_specialty66'), (0.0, 'move_specialty_specialty64'), (0.0, 'move_specialty_specialty62'), (0.0, 'move_specialty_specialty6'), (0.0, 'move_specialty_specialty59'), (0.0, 'move_specialty_specialty58'), (0.0, 'move_specialty_specialty57'), (0.0, 'move_specialty_specialty56'), (0.0, 'move_specialty_specialty55'), (0.0, 'move_specialty_specialty51'), (0.0, 'move_specialty_specialty50'), (0.0, 'move_specialty_specialty5'), (0.0, 'move_specialty_specialty49'), (0.0, 'move_specialty_specialty47'), (0.0, 'move_specialty_specialty45'), (0.0, 'move_specialty_specialty43'), (0.0, 'move_specialty_specialty42'), (0.0, 'move_specialty_specialty41'), (0.0, 'move_specialty_specialty40'), (0.0, 'move_specialty_specialty39'), (0.0, 'move_specialty_specialty38'), (0.0, 'move_specialty_specialty37'), (0.0, 'move_specialty_specialty36'), (0.0, 'move_specialty_specialty35'), (0.0, 'move_specialty_specialty33'), (0.0, 'move_specialty_specialty32'), (0.0, 'move_specialty_specialty30'), (0.0, 'move_specialty_specialty3'), (0.0, 'move_specialty_specialty27'), (0.0, 'move_specialty_specialty24'), (0.0, 'move_specialty_specialty23'), (0.0, 'move_specialty_specialty22'), (0.0, 'move_specialty_specialty2'), (0.0, 'move_specialty_specialty17'), (0.0, 'move_specialty_specialty14'), (0.0, 'move_specialty_specialty11'), (0.0, 'move_specialty_specialty1'), (0.0, 'game_move_id_9'), (0.0, 'game_move_id_27'), (0.0, 'game_move_id_24'), (0.0, 'game_move_id_20'), (0.0, 'game_move_id_19'), (0.0, 'game_move_id_17'), (0.0, 'game_move_id_16'), (0.0, 'game_move_id_12'), (0.0, 'game_move_id_10'), (0.0, 'foul_type_id_7'), (0.0, 'foul_type_id_4'), (0.0, 'dionysus_dive'), (0.0, 'chelmondiston_charge'), (0.0, 'bludger_backbeat')]\n"
     ]
    }
   ],
   "source": [
    "from imblearn.ensemble import BalancedRandomForestClassifier\n",
    "from sklearn.metrics import balanced_accuracy_score\n",
    "\n",
    "X_train, X_test, y_train, y_test = train_test_split(X, y, test_size=0.3)\n",
    "brf = BalancedRandomForestClassifier(n_estimators=100)\n",
    "brf.fit(X_train, y_train)\n",
    "y_pred= brf.predict(X_test)\n",
    "print('Accuracy of rfm classifier on test set: {:.2f}'.format(brf.score(X_test, y_test)))\n",
    "print('Balanced Accuracy score of rfm classifier on test set: {:.2f}'.format(balanced_accuracy_score(y_test, y_pred)))\n",
    "print(sorted(zip(map(lambda x: round(x, 4), brf.feature_importances_), X_test.columns), reverse=True))"
   ]
  },
  {
   "cell_type": "code",
   "execution_count": 140,
   "metadata": {},
   "outputs": [
    {
     "name": "stderr",
     "output_type": "stream",
     "text": [
      "C:\\Users\\Satish\\Downloads\\WPy-3670\\python-3.6.7.amd64\\lib\\site-packages\\sklearn\\utils\\validation.py:752: DataConversionWarning: A column-vector y was passed when a 1d array was expected. Please change the shape of y to (n_samples, ), for example using ravel().\n",
      "  y = column_or_1d(y, warn=True)\n"
     ]
    },
    {
     "name": "stdout",
     "output_type": "stream",
     "text": [
      "Accuracy of rfm classifier on test set: 0.84\n",
      "Balanced Accuracy score of rfm classifier on test set: 0.52\n",
      "[(0.0714, 'num_game_moves'), (0.0523, 'num_practice_sessions'), (0.0359, 'game_duration'), (0.0225, 'age'), (0.0199, 'num_games_won'), (0.0196, 'num_game_losses'), (0.0192, 'num_games_notpartof'), (0.0153, 'reverse_pass'), (0.0095, 'stooging'), (0.009, 'num_games_satout'), (0.0087, 'body_blow'), (0.0075, 'change'), (0.0067, 'player_type_Chaser1'), (0.0066, 'player_type_Multiple'), (0.0065, 'move_specialty_specialty41'), (0.0065, 'foul_type_id_1'), (0.0063, 'player_code_BC'), (0.0058, 'spiral_dive'), (0.0058, 'penalty_id_7'), (0.0057, 'player_type_Beater2'), (0.0056, 'sloth_grip_roll'), (0.0056, 'game_move_id_6'), (0.0051, 'move_specialty_specialty19'), (0.005, 'player_type_Chaser2'), (0.0049, 'game_move_id_3'), (0.0048, 'player_type_Chaser3'), (0.0045, 'player_type_Beater1'), (0.0045, 'gender_Male'), (0.0044, 'penalty_id_17'), (0.0044, 'house_Gryffindor'), (0.0043, 'game_move_id_1'), (0.0042, 'foul_type_id_2'), (0.0041, 'player_code_MC'), (0.0041, 'house_Slytherin'), (0.004, 'num_games_injured'), (0.0038, 'twirl'), (0.0032, 'snitch_caught'), (0.0032, 'player_code_MD'), (0.0031, 'gender_Female'), (0.003, 'penalty_id_1'), (0.0029, 'wronski_feint'), (0.0029, 'snitchnip'), (0.0028, 'move_specialty_specialty63'), (0.0028, 'foul_type_id_3'), (0.0027, 'player_code_SP'), (0.0027, 'no_hands_tackle'), (0.0026, 'move_specialty_specialty4'), (0.0026, 'move_specialty_specialty12'), (0.0025, 'move_specialty_specialty9'), (0.0025, 'game_move_id_22'), (0.0024, 'player_code_HM'), (0.0024, 'game_move_id_18'), (0.002, 'checking'), (0.0019, 'player_type_Captain'), (0.0019, 'player_code_OG'), (0.0019, 'move_specialty_specialty28'), (0.0019, 'game_move_id_4'), (0.0018, 'player_type_Seeker'), (0.0017, 'player_type_Keeper'), (0.0016, 'penalty_id_4'), (0.0015, 'player_code_UN'), (0.0014, 'foul_type_id_6'), (0.0013, 'foul_type_id_5'), (0.0012, 'player_code_CM'), (0.0011, 'penalty_id_6'), (0.0011, 'house_Other'), (0.0011, 'game_move_id_2'), (0.001, 'move_specialty_specialty20'), (0.001, 'move_specialty_specialty13'), (0.001, 'game_move_id_5'), (0.0009, 'house_Hufflepuff'), (0.0008, 'player_code_CP'), (0.0008, 'move_specialty_specialty29'), (0.0006, 'player_code_PO'), (0.0006, 'penalty_id_5'), (0.0006, 'parkins_pincer'), (0.0006, 'move_specialty_specialty53'), (0.0006, 'game_move_id_27'), (0.0006, 'dopplebeater_defence'), (0.0005, 'move_specialty_specialty61'), (0.0005, 'move_specialty_specialty52'), (0.0005, 'move_specialty_specialty26'), (0.0005, 'house_Ravenclaw'), (0.0005, 'game_move_id_7'), (0.0005, 'game_move_id_28'), (0.0004, 'penalty_id_2'), (0.0004, 'move_specialty_specialty65'), (0.0004, 'move_specialty_specialty44'), (0.0004, 'game_move_id_23'), (0.0003, 'move_specialty_specialty6'), (0.0003, 'game_move_id_13'), (0.0003, 'foul_type_id_8'), (0.0002, 'zig-zag'), (0.0002, 'starfish_and_stick'), (0.0002, 'move_specialty_specialty72'), (0.0002, 'move_specialty_specialty70'), (0.0002, 'move_specialty_specialty60'), (0.0002, 'move_specialty_specialty48'), (0.0002, 'move_specialty_specialty21'), (0.0002, 'game_move_id_25'), (0.0002, 'game_move_id_14'), (0.0002, 'game_move_id_11'), (0.0002, 'bludger_backbeat'), (0.0001, 'player_code_DM'), (0.0001, 'penalty_id_3'), (0.0001, 'penalty_id_20'), (0.0001, 'move_specialty_specialty34'), (0.0001, 'move_specialty_specialty27'), (0.0001, 'move_specialty_specialty25'), (0.0001, 'move_specialty_specialty17'), (0.0001, 'move_specialty_specialty16'), (0.0001, 'move_specialty_specialty10'), (0.0001, 'game_move_id_19'), (0.0, 'woollongong_shimmy'), (0.0, 'transylvanian_tackle'), (0.0, 'power_play'), (0.0, 'porskoff_ploy'), (0.0, 'plumpton_pass'), (0.0, 'player_code_WC'), (0.0, 'player_code_SI'), (0.0, 'player_code_OT'), (0.0, 'player_code_MP'), (0.0, 'player_code_FR'), (0.0, 'player_code_CH'), (0.0, 'penalty_id_9'), (0.0, 'penalty_id_8'), (0.0, 'penalty_id_25'), (0.0, 'penalty_id_22'), (0.0, 'penalty_id_14'), (0.0, 'penalty_id_13'), (0.0, 'penalty_id_11'), (0.0, 'penalty_id_10'), (0.0, 'move_specialty_specialty8'), (0.0, 'move_specialty_specialty71'), (0.0, 'move_specialty_specialty7'), (0.0, 'move_specialty_specialty69'), (0.0, 'move_specialty_specialty68'), (0.0, 'move_specialty_specialty67'), (0.0, 'move_specialty_specialty66'), (0.0, 'move_specialty_specialty64'), (0.0, 'move_specialty_specialty62'), (0.0, 'move_specialty_specialty59'), (0.0, 'move_specialty_specialty58'), (0.0, 'move_specialty_specialty57'), (0.0, 'move_specialty_specialty56'), (0.0, 'move_specialty_specialty55'), (0.0, 'move_specialty_specialty54'), (0.0, 'move_specialty_specialty51'), (0.0, 'move_specialty_specialty50'), (0.0, 'move_specialty_specialty5'), (0.0, 'move_specialty_specialty49'), (0.0, 'move_specialty_specialty47'), (0.0, 'move_specialty_specialty46'), (0.0, 'move_specialty_specialty45'), (0.0, 'move_specialty_specialty43'), (0.0, 'move_specialty_specialty42'), (0.0, 'move_specialty_specialty40'), (0.0, 'move_specialty_specialty39'), (0.0, 'move_specialty_specialty38'), (0.0, 'move_specialty_specialty37'), (0.0, 'move_specialty_specialty36'), (0.0, 'move_specialty_specialty35'), (0.0, 'move_specialty_specialty33'), (0.0, 'move_specialty_specialty32'), (0.0, 'move_specialty_specialty31'), (0.0, 'move_specialty_specialty30'), (0.0, 'move_specialty_specialty3'), (0.0, 'move_specialty_specialty24'), (0.0, 'move_specialty_specialty23'), (0.0, 'move_specialty_specialty22'), (0.0, 'move_specialty_specialty2'), (0.0, 'move_specialty_specialty18'), (0.0, 'move_specialty_specialty15'), (0.0, 'move_specialty_specialty14'), (0.0, 'move_specialty_specialty11'), (0.0, 'move_specialty_specialty1'), (0.0, 'hawkshead_attacking_formation'), (0.0, 'game_move_id_9'), (0.0, 'game_move_id_8'), (0.0, 'game_move_id_24'), (0.0, 'game_move_id_20'), (0.0, 'game_move_id_17'), (0.0, 'game_move_id_16'), (0.0, 'game_move_id_15'), (0.0, 'game_move_id_12'), (0.0, 'game_move_id_10'), (0.0, 'foul_type_id_7'), (0.0, 'foul_type_id_4'), (0.0, 'dionysus_dive'), (0.0, 'chelmondiston_charge')]\n"
     ]
    }
   ],
   "source": [
    "from imblearn.ensemble import RUSBoostClassifier\n",
    "X = df.loc[:, ~df.columns.isin(['quidditch_league_player', 'id_num', 'player_id'])]\n",
    "y = df.loc[:, df.columns == 'quidditch_league_player']\n",
    "X_train, X_test, y_train, y_test = train_test_split(X, y, test_size=0.3)\n",
    "rusboost = RUSBoostClassifier(random_state=0)\n",
    "rusboost.fit(X_train, y_train)\n",
    "y_pred= rusboost.predict(X_test)\n",
    "print('Accuracy of rfm classifier on test set: {:.2f}'.format(rusboost.score(X_test, y_test)))\n",
    "print('Balanced Accuracy score of rfm classifier on test set: {:.2f}'.format(balanced_accuracy_score(y_test, y_pred)))\n",
    "print(sorted(zip(map(lambda x: round(x, 4), rusboost.feature_importances_), X_test.columns), reverse=True))"
   ]
  },
  {
   "cell_type": "code",
   "execution_count": 141,
   "metadata": {},
   "outputs": [
    {
     "name": "stderr",
     "output_type": "stream",
     "text": [
      "C:\\Users\\Satish\\Downloads\\WPy-3670\\python-3.6.7.amd64\\lib\\site-packages\\sklearn\\ensemble\\bagging.py:618: DataConversionWarning: A column-vector y was passed when a 1d array was expected. Please change the shape of y to (n_samples, ), for example using ravel().\n",
      "  y = column_or_1d(y, warn=True)\n"
     ]
    },
    {
     "name": "stdout",
     "output_type": "stream",
     "text": [
      "Accuracy of rfm classifier on test set: 0.89\n",
      "Balanced Accuracy score of rfm classifier on test set: 0.51\n"
     ]
    }
   ],
   "source": [
    "from sklearn.ensemble import BaggingClassifier\n",
    "from sklearn.tree import DecisionTreeClassifier\n",
    "bc = BaggingClassifier(base_estimator=DecisionTreeClassifier(), random_state=0)\n",
    "bc.fit(X_train, y_train)\n",
    "y_pred= bc.predict(X_test)\n",
    "print('Accuracy of rfm classifier on test set: {:.2f}'.format(bc.score(X_test, y_test)))\n",
    "print('Balanced Accuracy score of rfm classifier on test set: {:.2f}'.format(balanced_accuracy_score(y_test, y_pred)))\n",
    "#print(sorted(zip(map(lambda x: round(x, 4), bc.feature_importances_), X_test.columns), reverse=True))"
   ]
  },
  {
   "cell_type": "code",
   "execution_count": 142,
   "metadata": {},
   "outputs": [
    {
     "name": "stderr",
     "output_type": "stream",
     "text": [
      "C:\\Users\\Satish\\Downloads\\WPy-3670\\python-3.6.7.amd64\\lib\\site-packages\\sklearn\\ensemble\\bagging.py:618: DataConversionWarning: A column-vector y was passed when a 1d array was expected. Please change the shape of y to (n_samples, ), for example using ravel().\n",
      "  y = column_or_1d(y, warn=True)\n"
     ]
    },
    {
     "name": "stdout",
     "output_type": "stream",
     "text": [
      "Accuracy of rfm classifier on test set: 0.64\n",
      "Balanced Accuracy score of rfm classifier on test set: 0.60\n"
     ]
    }
   ],
   "source": [
    "from imblearn.ensemble import EasyEnsembleClassifier\n",
    "eec = EasyEnsembleClassifier()\n",
    "eec.fit(X_train, y_train)\n",
    "y_pred= eec.predict(X_test)\n",
    "print('Accuracy of rfm classifier on test set: {:.2f}'.format(eec.score(X_test, y_test)))\n",
    "print('Balanced Accuracy score of rfm classifier on test set: {:.2f}'.format(balanced_accuracy_score(y_test, y_pred)))\n",
    "#rint(sorted(zip(map(lambda x: round(x, 4), eec.feature_importances_), X_test.columns), reverse=True))"
   ]
  },
  {
   "cell_type": "code",
   "execution_count": 143,
   "metadata": {},
   "outputs": [
    {
     "name": "stdout",
     "output_type": "stream",
     "text": [
      "Requirement already satisfied: xgboost in c:\\users\\satish\\downloads\\wpy-3670\\python-3.6.7.amd64\\lib\\site-packages (0.82)\n",
      "Requirement already satisfied: numpy in c:\\users\\satish\\downloads\\wpy-3670\\python-3.6.7.amd64\\lib\\site-packages (from xgboost) (1.14.6+mkl)\n",
      "Requirement already satisfied: scipy in c:\\users\\satish\\downloads\\wpy-3670\\python-3.6.7.amd64\\lib\\site-packages (from xgboost) (1.1.0)\n"
     ]
    },
    {
     "name": "stderr",
     "output_type": "stream",
     "text": [
      "You are using pip version 18.1, however version 19.0.3 is available.\n",
      "You should consider upgrading via the 'python -m pip install --upgrade pip' command.\n",
      "C:\\Users\\Satish\\Downloads\\WPy-3670\\python-3.6.7.amd64\\lib\\site-packages\\sklearn\\preprocessing\\label.py:219: DataConversionWarning: A column-vector y was passed when a 1d array was expected. Please change the shape of y to (n_samples, ), for example using ravel().\n",
      "  y = column_or_1d(y, warn=True)\n",
      "C:\\Users\\Satish\\Downloads\\WPy-3670\\python-3.6.7.amd64\\lib\\site-packages\\sklearn\\preprocessing\\label.py:252: DataConversionWarning: A column-vector y was passed when a 1d array was expected. Please change the shape of y to (n_samples, ), for example using ravel().\n",
      "  y = column_or_1d(y, warn=True)\n"
     ]
    },
    {
     "name": "stdout",
     "output_type": "stream",
     "text": [
      "Accuracy of rfm classifier on test set: 0.90\n",
      "Balanced Accuracy score of rfm classifier on test set: 0.50\n"
     ]
    }
   ],
   "source": [
    "#!pip install xgboost\n",
    "from xgboost import XGBClassifier\n",
    "xgb1 = XGBClassifier(\n",
    "    learning_rate =0.007, n_estimators=1000,\n",
    "    max_depth=5, min_child_weight=3, gamma=0.4,subsample=0.55,colsample_bytree=0.85,\n",
    "    objective= 'binary:logistic', nthread=4,scale_pos_weight=1,seed=27)\n",
    "# modelfit(xgb1, train, train_X)\n",
    "xgb1.fit(X_train, y_train)\n",
    "y_pred= xgb1.predict(X_test)\n",
    "print('Accuracy of rfm classifier on test set: {:.2f}'.format(xgb1.score(X_test, y_test)))\n",
    "print('Balanced Accuracy score of rfm classifier on test set: {:.2f}'.format(balanced_accuracy_score(y_test, y_pred)))"
   ]
  },
  {
   "cell_type": "markdown",
   "metadata": {},
   "source": [
    "# PART III: Best Hypothesis:\n",
    "Model Name:------------<br>\n",
    "Reason:--------------<br>\n",
    "Hyper-parameter Value:-----------<br>\n"
   ]
  },
  {
   "cell_type": "code",
   "execution_count": null,
   "metadata": {},
   "outputs": [],
   "source": []
  }
 ],
 "metadata": {
  "kernelspec": {
   "display_name": "Python 3",
   "language": "python",
   "name": "python3"
  },
  "language_info": {
   "codemirror_mode": {
    "name": "ipython",
    "version": 3
   },
   "file_extension": ".py",
   "mimetype": "text/x-python",
   "name": "python",
   "nbconvert_exporter": "python",
   "pygments_lexer": "ipython3",
   "version": "3.6.7"
  }
 },
 "nbformat": 4,
 "nbformat_minor": 2
}
